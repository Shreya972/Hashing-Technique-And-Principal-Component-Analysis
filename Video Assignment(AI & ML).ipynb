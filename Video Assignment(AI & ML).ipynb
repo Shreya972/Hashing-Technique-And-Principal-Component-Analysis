{
 "cells": [
  {
   "cell_type": "code",
   "execution_count": 13,
   "metadata": {},
   "outputs": [],
   "source": [
    "import pandas as pd\n",
    "import numpy as np\n",
    "from sklearn.preprocessing import StandardScaler\n",
    "from matplotlib import*\n",
    "import matplotlib.pyplot as plt\n",
    "from matplotlib.cm import register_cmap\n",
    "from scipy import stats\n",
    "from sklearn.decomposition import PCA\n",
    "import seaborn"
   ]
  },
  {
   "cell_type": "code",
   "execution_count": 14,
   "metadata": {},
   "outputs": [],
   "source": [
    "dataset = pd.read_csv('PCA.csv')\n",
    "X = dataset.iloc[:, :-1].values\n"
   ]
  },
  {
   "cell_type": "code",
   "execution_count": 15,
   "metadata": {},
   "outputs": [],
   "source": [
    "X_std = StandardScaler().fit_transform(X)"
   ]
  },
  {
   "cell_type": "code",
   "execution_count": 16,
   "metadata": {},
   "outputs": [
    {
     "name": "stdout",
     "output_type": "stream",
     "text": [
      "Covariance matrix n[[ 1.00012438  0.86158053  0.06855825 ... -0.31518284  0.85146156\n",
      "   0.73896055]\n",
      " [ 0.86158053  1.00012438  0.15488063 ... -0.2903245   0.74215621\n",
      "   0.86635609]\n",
      " [ 0.06855825  0.15488063  1.00012438 ...  0.72747649  0.03936251\n",
      "   0.12251336]\n",
      " ...\n",
      " [-0.31518284 -0.2903245   0.72747649 ...  1.00012438 -0.33204912\n",
      "  -0.31468469]\n",
      " [ 0.85146156  0.74215621  0.03936251 ... -0.33204912  1.00012438\n",
      "   0.86013453]\n",
      " [ 0.73896055  0.86635609  0.12251336 ... -0.31468469  0.86013453\n",
      "   1.00012438]]\n"
     ]
    }
   ],
   "source": [
    "mean_vec = np.mean(X_std, axis=0)\n",
    "cov_mat = (X_std - mean_vec).T.dot((X_std - mean_vec)) / (X_std.shape[0]-1)\n",
    "print('Covariance matrix n%s' %cov_mat)"
   ]
  },
  {
   "cell_type": "code",
   "execution_count": 23,
   "metadata": {},
   "outputs": [
    {
     "name": "stdout",
     "output_type": "stream",
     "text": [
      "Eigenvalues in descending order:\n",
      "17.169144010332204\n",
      "12.718589795380487\n",
      "1.1775554605059546\n",
      "0.7354095836354944\n",
      "0.5875266178528442\n",
      "0.392436509815379\n",
      "0.3600858168540083\n",
      "0.12164042085405485\n",
      "0.1135495785202917\n",
      "0.079925965577728\n",
      "0.07318441088608148\n",
      "0.053872835142702614\n",
      "0.04976270762478869\n",
      "0.03991978421552747\n",
      "0.03473256206918919\n",
      "0.03598122571816435\n",
      "0.02654197608232697\n",
      "0.023593797947327116\n",
      "0.02339259677223338\n",
      "0.005737412318959515\n",
      "0.020926367991898915\n",
      "0.019926076490595874\n",
      "0.007093438345993575\n",
      "0.007987366335269563\n",
      "0.008979326658424297\n",
      "0.009272840316974304\n",
      "0.01068157527362318\n",
      "0.011383889939443254\n",
      "0.016016548732695913\n",
      "0.01523866181852855\n",
      "0.014816530723164533\n",
      "0.013923288051121724\n",
      "0.012459925348436433\n",
      "0.012939951589475513\n"
     ]
    }
   ],
   "source": [
    "# Visually confirm that the list is correctly sorted by decreasing eigenvalues\n",
    "eig_pairs = [(np.abs(eig_vals[i]), eig_vecs[:,i]) \n",
    "             for i in range(len(eig_vals))]\n",
    "print('Eigenvalues in descending order:')\n",
    "\n",
    "for i in eig_pairs:\n",
    "    print(i[0])"
   ]
  },
  {
   "cell_type": "code",
   "execution_count": 52,
   "metadata": {},
   "outputs": [
    {
     "name": "stdout",
     "output_type": "stream",
     "text": [
      "[0.57424128 0.30223122]\n"
     ]
    }
   ],
   "source": [
    "pca = PCA(n_components=i)\n",
    "pca.fit_transform(X)\n",
    "print(pca.explained_variance_ratio_)\n"
   ]
  },
  {
   "cell_type": "code",
   "execution_count": 54,
   "metadata": {},
   "outputs": [
    {
     "data": {
      "image/png": "[encoded data removed]",
      "text/plain": [
       "<Figure size 432x288 with 1 Axes>"
      ]
     },
     "metadata": {
      "needs_background": "light"
     },
     "output_type": "display_data"
    }
   ],
   "source": [
    "pca = PCA().fit(X_std)\n",
    "plt.plot(np.cumsum(pca.explained_variance_ratio_))\n",
    "plt.xlabel('number of components')\n",
    "plt.ylabel('cumulative explained variance')\n",
    "plt.show()"
   ]
  },
  {
   "cell_type": "code",
   "execution_count": 37,
   "metadata": {},
   "outputs": [],
   "source": [
    "feature = X.T\n",
    "cov_mat = np.cov(feature)"
   ]
  },
  {
   "cell_type": "code",
   "execution_count": 38,
   "metadata": {},
   "outputs": [
    {
     "name": "stdout",
     "output_type": "stream",
     "text": [
      "Eigenvectors n[[ 0.21573799  0.01832801 -0.25020742 ... -0.06880016 -0.01319391\n",
      "  -0.01758412]\n",
      " [ 0.2281608   0.04475259  0.1956929  ...  0.21276355  0.10866665\n",
      "  -0.07578444]\n",
      " [ 0.00168712  0.28474476  0.02517484 ... -0.21500624  0.09742941\n",
      "   0.07080389]\n",
      " ...\n",
      " [-0.0796675   0.21354728 -0.04577166 ... -0.18777292 -0.03463476\n",
      "  -0.18597601]\n",
      " [ 0.21296104  0.01972501 -0.24402628 ...  0.10252282  0.17013268\n",
      "  -0.06242826]\n",
      " [ 0.24256698  0.04788491  0.21524013 ... -0.13992851 -0.11190472\n",
      "   0.05208367]]\n",
      "nEigenvalues n[3.51250645e+00 1.84868128e+00 2.45961520e-01 1.37570003e-01\n",
      " 8.94355019e-02 8.08676386e-02 5.21493483e-02 2.41525147e-02\n",
      " 1.68899042e-02 1.52884203e-02 1.11903942e-02 8.23094825e-03\n",
      " 7.44208721e-03 7.17444670e-03 6.90938403e-03 6.31657995e-03\n",
      " 5.07896578e-03 4.25834199e-03 4.12762774e-03 3.51729323e-03\n",
      " 3.36173014e-03 1.09073870e-03 2.96282181e-03 2.87608009e-03\n",
      " 2.73640345e-03 1.31469350e-03 1.44725187e-03 1.51263576e-03\n",
      " 1.67493115e-03 1.77170995e-03 1.87487996e-03 1.99587992e-03\n",
      " 2.25788921e-03 2.15172494e-03]\n"
     ]
    }
   ],
   "source": [
    "#Calculating eigenvectors and eigenvalues on covariance matrix\n",
    "eig_vals, eig_vecs = np.linalg.eig(cov_mat)\n",
    "print('Eigenvectors n%s' %eig_vecs)\n",
    "print('nEigenvalues n%s' %eig_vals)"
   ]
  },
  {
   "cell_type": "code",
   "execution_count": 36,
   "metadata": {},
   "outputs": [],
   "source": [
    "eigen_vec_ls = []\n",
    "for i in range(eig_vecs.shape[1]):\n",
    "    eig1 = feature.T@eig_vecs[:,i]\n",
    "    eig1 = eig1/eig_vals[i]\n",
    "    eigen_vec_ls.append(np.ravel(eig1))"
   ]
  },
  {
   "cell_type": "code",
   "execution_count": 53,
   "metadata": {},
   "outputs": [
    {
     "name": "stdout",
     "output_type": "stream",
     "text": [
      "Number of components is 2\n"
     ]
    }
   ],
   "source": [
    "sort_idx = np.argsort(eig_vals) ## indices for eigenvalues which are in ascending order\n",
    "sort_idx = sort_idx[::-1]\n",
    "\n",
    "eig_val_sum = np.sum(eig_vals)\n",
    "temp_sum = 1\n",
    "principal_eig_vec = []\n",
    "principal_eig_val = []\n",
    "i=0\n",
    "while(0.9<temp_sum<0.97*eig_val_sum):\n",
    "    principal_eig_vec.append(eigen_vec_ls[sort_idx[i]])\n",
    "    principal_eig_val.append(eig_vals[sort_idx[i]])\n",
    "    temp_sum += eig_vals[sort_idx[i]]\n",
    "    i += 1\n",
    "print(\"Number of components is {}\".format(i))"
   ]
  },
  {
   "cell_type": "code",
   "execution_count": null,
   "metadata": {},
   "outputs": [],
   "source": []
  }
 ],
 "metadata": {
  "kernelspec": {
   "display_name": "Python 3",
   "language": "python",
   "name": "python3"
  },
  "language_info": {
   "codemirror_mode": {
    "name": "ipython",
    "version": 3
   },
   "file_extension": ".py",
   "mimetype": "text/x-python",
   "name": "python",
   "nbconvert_exporter": "python",
   "pygments_lexer": "ipython3",
   "version": "3.7.6"
  }
 },
 "nbformat": 4,
 "nbformat_minor": 4
}
